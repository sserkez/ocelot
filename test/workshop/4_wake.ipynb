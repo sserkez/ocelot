{
 "metadata": {
  "kernelspec": {
   "display_name": "Python 3",
   "language": "python",
   "name": "python3"
  },
  "language_info": {
   "codemirror_mode": {
    "name": "ipython",
    "version": 3
   },
   "file_extension": ".py",
   "mimetype": "text/x-python",
   "name": "python",
   "nbconvert_exporter": "python",
   "pygments_lexer": "ipython3",
   "version": "3.5.2"
  },
  "name": "",
  "signature": "sha256:1a360194163fd5708503cac912c81c0b0a2062d8bb9590728f5f20ce6b9e1aa9"
 },
 "nbformat": 3,
 "nbformat_minor": 0,
 "worksheets": [
  {
   "cells": [
    {
     "cell_type": "markdown",
     "metadata": {},
     "source": [
      "*This notebook was created by [Sergey Tomin](http://www.xfel.eu/organization/staff/tomin_sergey/) and [Igor Zagorodnov](http://www.desy.de/~zagor/) for Workshop: [Designing future X-ray FELs](http://www.xrayfels.co.uk/). Source and license info is on [GitHub](https://github.com/iagapov/ocelot/tree/dev/docs). August 2016. *"
     ]
    },
    {
     "cell_type": "markdown",
     "metadata": {},
     "source": [
      "# Tutorial N4.  Wakefields.\n",
      "## Chirper.\n",
      "Influence of corrugated structure on the electron beam.\n",
      "This example based on the work: [I. Zagorodnov, G. Feng, T. Limberg. Corrugated structure insertion for extending the SASE bandwidth up to 3% at the European XFEL](https://arxiv.org/abs/1607.07642). \n",
      "\n",
      "Gerometry of the corrugated structure. The blue ellipse represents an electron beam\n",
      "propagating along the z axis.\n",
      "\n",
      "<img src=\"4_corrugated_str.png\" />\n",
      "\n",
      "## Wakefields\n",
      "In order to take into account the impact of the wake field on the beam the longitudinal wake function\n",
      "of point charge through the second order Taylor expansion is used.\n",
      "In general case it uses 13 one-dimensional functions to represent the  longitudinal component of the wake\n",
      "function for arbitrary sets of the source and the wittness particles near to the reference axis.\n",
      "The wake field impact on the beam is included as series of kicks.\n",
      "\n",
      "The implementation of the wakefields follows closely the approach described \n",
      "in:\n",
      "* [O. Zagorodnova, T. Limberg, Impedance budget database for the European XFEL,\n",
      "in Proceedings of 2009 Particle Accelerator Conference,(Vancouver, Canada, 2009)](http://pubdb.xfel.eu/record/93956)\n",
      "* [M. Dohlus, K. Floettmann, C. Henning, Fast particle tracking with wake \n",
      "fields, Report No. DESY 12-012, 2012.](https://arxiv.org/abs/1201.5270)\n",
      "\n",
      "#### This example will cover the following topics:\n",
      "* Initialization of the wakes and the places of their applying\n",
      "* tracking of second order with wakes\n",
      "\n",
      "#### Requirements \n",
      "* beam_chirper.ast    - input file, initial beam distribution in [ASTRA](http://www.desy.de/~mpyflo/) format (was obtained from s2e simulation performed with ASTRA and [CSRtrack](http://www.desy.de/fel-beam/psviewer/index.html)).\n",
      "* wake_vert_1m.txt - wake table of the vertical corrugated structure (was calculated with [ECHO](http://www.desy.de/~zagor/WakefieldCode_ECHOz/))\n",
      "* wake_hor_1m.txt - wake table of the vertical corrugated structure (was calculated with [ECHO](http://www.desy.de/~zagor/WakefieldCode_ECHOz/))"
     ]
    },
    {
     "cell_type": "heading",
     "level": 3,
     "metadata": {},
     "source": [
      "Import of modules"
     ]
    },
    {
     "cell_type": "code",
     "collapsed": false,
     "input": [
      "# the output of plotting commands is displayed inline within frontends, \n",
      "# directly below the code cell that produced it\n",
      "%matplotlib inline\n",
      "\n",
      "# this python library provides generic shallow (copy) and deep copy (deepcopy) operations \n",
      "from copy import deepcopy\n",
      "\n",
      "# import from Ocelot main modules and functions\n",
      "from ocelot import *\n",
      "\n",
      "# import from Ocelot graphical modules\n",
      "from ocelot.gui.accelerator import *\n",
      "\n",
      "# load beam distribution\n",
      "# this function convert Astra beam distribution to Ocelot format - ParticleArray. ParticleArray is designed for tracking.\n",
      "# in order to work with converters we have to import specific module from ocelot.adaptors\n",
      "from ocelot.adaptors.astra2ocelot import *"
     ],
     "language": "python",
     "metadata": {},
     "outputs": [
      {
       "output_type": "stream",
       "stream": "stdout",
       "text": [
        "initializing ocelot...\n"
       ]
      }
     ],
     "prompt_number": 1
    },
    {
     "cell_type": "heading",
     "level": 3,
     "metadata": {},
     "source": [
      "Layout of the corrugated structure insertion. Create Ocelot lattice <img src=\"4_layout.png\" />"
     ]
    },
    {
     "cell_type": "code",
     "collapsed": false,
     "input": [
      "D00m25 = Drift(l = 0.25)\n",
      "D01m = Drift(l = 1)\n",
      "D02m = Drift(l = 2)\n",
      "\n",
      "# Create markers for defining places of the wakes applying \n",
      "w1_start = Marker()\n",
      "w1_stop = Marker()\n",
      "\n",
      "w2_start = Marker()\n",
      "w2_stop = Marker()\n",
      "\n",
      "w3_start = Marker()\n",
      "w3_stop = Marker()\n",
      "\n",
      "w4_start = Marker()\n",
      "w4_stop = Marker()\n",
      "\n",
      "w5_start = Marker()\n",
      "w5_stop = Marker()\n",
      "\n",
      "w6_start = Marker()\n",
      "w6_stop = Marker()\n",
      "# quadrupoles\n",
      "Q1 = Quadrupole(l = 0.5, k1 = 0.215)\n",
      "\n",
      "# lattice\n",
      "lattice = (D01m, w1_start, D02m, w1_stop, w2_start, D02m, w2_stop, w3_start, D02m, w3_stop, D00m25, Q1,\n",
      "           D00m25, w4_start, D02m, w4_stop, w5_start, D02m, w5_stop, w6_start, D02m, w6_stop, D01m)\n",
      "\n",
      "# creation MagneticLattice\n",
      "method = MethodTM()\n",
      "method.global_method = SecondTM\n",
      "lat = MagneticLattice(lattice, method=method)\n",
      "\n",
      "# calculate twiss functions with initial twiss parameters\n",
      "tws0 = Twiss()\n",
      "tws0.E = 14  # in GeV\n",
      "tws0.beta_x = 22.5995\n",
      "tws0.beta_y = 22.5995\n",
      "tws0.alpha_x = -1.4285\n",
      "tws0.alpha_y = 1.4285\n",
      "tws = twiss(lat, tws0, nPoints=None)\n",
      "# ploting twiss paramentrs.\n",
      "plot_opt_func(lat, tws, top_plot=[\"Dx\"], fig_name=\"i1\", legend=False)\n",
      "plt.show()"
     ],
     "language": "python",
     "metadata": {},
     "outputs": [
      {
       "metadata": {},
       "output_type": "display_data",
       "png": "[encoded data removed]",
       "text": [
        "<matplotlib.figure.Figure at 0xbe46490>"
       ]
      }
     ],
     "prompt_number": 2
    },
    {
     "cell_type": "heading",
     "level": 2,
     "metadata": {},
     "source": [
      "Load beam file"
     ]
    },
    {
     "cell_type": "code",
     "collapsed": false,
     "input": [
      "p_array_init = astraBeam2particleArray(filename='beam_chirper.ast')\n",
      "\n",
      "plt.plot(-p_array_init.tau()*1000, p_array_init.p(), \"r.\")\n",
      "plt.grid(True)\n",
      "plt.xlabel(r\"$\\tau$, mm\")\n",
      "plt.ylabel(r\"$\\frac{\\Delta E}{E}$\")\n",
      "plt.show()"
     ],
     "language": "python",
     "metadata": {},
     "outputs": [
      {
       "output_type": "stream",
       "stream": "stdout",
       "text": [
        "('Astra to Ocelot: charge = ', 5.0000000000000024e-10)\n",
        "('Astra to Ocelot: particles number = ', 100000)\n",
        "('Astra to Ocelot: energy = ', 13.998144009326948)\n",
        "('Astra to Ocelot: s pos = ', 1.0)\n"
       ]
      },
      {
       "metadata": {},
       "output_type": "display_data",
       "png": "[encoded data removed]",
       "text": [
        "<matplotlib.figure.Figure at 0xbdc8f50>"
       ]
      }
     ],
     "prompt_number": 3
    },
    {
     "cell_type": "heading",
     "level": 2,
     "metadata": {},
     "source": [
      "Initialization of the wakes and the places of their applying "
     ]
    },
    {
     "cell_type": "code",
     "collapsed": false,
     "input": [
      "from ocelot.cpbd.wake3D import *\n",
      "\n",
      "# load wake tables of corrugated structures\n",
      "wk_vert = WakeTable('wake_vert_1m.txt')\n",
      "wk_hor = WakeTable('wake_hor_1m.txt')\n",
      "\n",
      "# creation of wake object with parameters \n",
      "wake_v1 = Wake()\n",
      "# w_sampling - defines the number of the equidistant sampling points for the one-dimensional\n",
      "# wake coefficients in the Taylor expansion of the 3D wake function.\n",
      "wake_v1.w_sampling = 500\n",
      "wake_v1.wake_table = wk_vert\n",
      "wake_v1.step = 1 # step in Navigator.unit_step, dz = Navigator.unit_step * wake.step [m]\n",
      "\n",
      "wake_h1 = Wake()\n",
      "wake_h1.w_sampling = 500\n",
      "wake_h1.wake_table = wk_hor\n",
      "wake_h1.step = 1\n",
      "\n",
      "wake_v2 = deepcopy(wake_v1) \n",
      "\n",
      "wake_h2 = deepcopy(wake_h1)\n",
      "\n",
      "wake_v3 = deepcopy(wake_v1) \n",
      "\n",
      "wake_h3 = deepcopy(wake_h1)"
     ],
     "language": "python",
     "metadata": {},
     "outputs": [],
     "prompt_number": 4
    },
    {
     "cell_type": "markdown",
     "metadata": {},
     "source": [
      "## Add the wakes in the lattice\n",
      "Navigator defines step (dz) of tracking and which, if it exists, physical process will be applied on each step.\n",
      "In order to add collective effects (Space charge, CSR or wake) method add_physics_proc() must be run.\n",
      "\n",
      "**Method:**\n",
      "* Navigator.add_physics_proc(physics_proc, elem1, elem2)\n",
      "    - physics_proc - physics process, can be CSR, SpaceCharge or Wake,\n",
      "    - elem1 and elem2 - first and last elements between which the physics process will be applied.\n",
      "\n",
      "Also must be define unit_step in [m] (by default 1 m). unit_step is minimal step of tracking for any collective effect. \n",
      "For each collective effect must be define number of unit_steps so step of applying physics process will be \n",
      "\n",
      "dz = unit_step*step [m]"
     ]
    },
    {
     "cell_type": "code",
     "collapsed": false,
     "input": [
      "navi = Navigator(lat)\n",
      "\n",
      "# add physics proccesses\n",
      "navi.add_physics_proc(wake_v1, w1_start, w1_stop)\n",
      "navi.add_physics_proc(wake_h1, w2_start, w2_stop)\n",
      "navi.add_physics_proc(wake_v2, w3_start, w3_stop)\n",
      "navi.add_physics_proc(wake_h2, w4_start, w4_stop)\n",
      "navi.add_physics_proc(wake_v3, w5_start, w5_stop)\n",
      "navi.add_physics_proc(wake_h3, w6_start, w6_stop)\n",
      "\n",
      "# definiing unit step in [m]\n",
      "navi.unit_step = 0.2 \n",
      "\n",
      "# deep copy of the initial beam distribution \n",
      "p_array = deepcopy(p_array_init)\n",
      "tws_track, p_array = track(lat, p_array, navi)"
     ],
     "language": "python",
     "metadata": {},
     "outputs": [
      {
       "output_type": "stream",
       "stream": "stdout",
       "text": [
        "\r",
        "z = 1.0 / 15.0 : applied: "
       ]
      },
      {
       "output_type": "stream",
       "stream": "stdout",
       "text": [
        "\r",
        "z = 1.2 / 15.0 : applied: Wake"
       ]
      },
      {
       "output_type": "stream",
       "stream": "stdout",
       "text": [
        "\r",
        "z = 1.4 / 15.0 : applied: Wake"
       ]
      },
      {
       "output_type": "stream",
       "stream": "stdout",
       "text": [
        "\r",
        "z = 1.6 / 15.0 : applied: Wake"
       ]
      },
      {
       "output_type": "stream",
       "stream": "stdout",
       "text": [
        "\r",
        "z = 1.8 / 15.0 : applied: Wake"
       ]
      },
      {
       "output_type": "stream",
       "stream": "stdout",
       "text": [
        "\r",
        "z = 2.0 / 15.0 : applied: Wake"
       ]
      },
      {
       "output_type": "stream",
       "stream": "stdout",
       "text": [
        "\r",
        "z = 2.2 / 15.0 : applied: Wake"
       ]
      },
      {
       "output_type": "stream",
       "stream": "stdout",
       "text": [
        "\r",
        "z = 2.4 / 15.0 : applied: Wake"
       ]
      },
      {
       "output_type": "stream",
       "stream": "stdout",
       "text": [
        "\r",
        "z = 2.6 / 15.0 : applied: Wake"
       ]
      },
      {
       "output_type": "stream",
       "stream": "stdout",
       "text": [
        "\r",
        "z = 2.8 / 15.0 : applied: Wake"
       ]
      },
      {
       "output_type": "stream",
       "stream": "stdout",
       "text": [
        "\r",
        "z = 3.0 / 15.0 : applied: Wake"
       ]
      },
      {
       "output_type": "stream",
       "stream": "stdout",
       "text": [
        "\r",
        "z = 3.2 / 15.0 : applied: Wake"
       ]
      },
      {
       "output_type": "stream",
       "stream": "stdout",
       "text": [
        "\r",
        "z = 3.4 / 15.0 : applied: Wake"
       ]
      },
      {
       "output_type": "stream",
       "stream": "stdout",
       "text": [
        "\r",
        "z = 3.6 / 15.0 : applied: Wake"
       ]
      },
      {
       "output_type": "stream",
       "stream": "stdout",
       "text": [
        "\r",
        "z = 3.8 / 15.0 : applied: Wake"
       ]
      },
      {
       "output_type": "stream",
       "stream": "stdout",
       "text": [
        "\r",
        "z = 4.0 / 15.0 : applied: Wake"
       ]
      },
      {
       "output_type": "stream",
       "stream": "stdout",
       "text": [
        "\r",
        "z = 4.2 / 15.0 : applied: Wake"
       ]
      },
      {
       "output_type": "stream",
       "stream": "stdout",
       "text": [
        "\r",
        "z = 4.4 / 15.0 : applied: Wake"
       ]
      },
      {
       "output_type": "stream",
       "stream": "stdout",
       "text": [
        "\r",
        "z = 4.6 / 15.0 : applied: Wake"
       ]
      },
      {
       "output_type": "stream",
       "stream": "stdout",
       "text": [
        "\r",
        "z = 4.8 / 15.0 : applied: Wake"
       ]
      },
      {
       "output_type": "stream",
       "stream": "stdout",
       "text": [
        "\r",
        "z = 5.0 / 15.0 : applied: Wake"
       ]
      },
      {
       "output_type": "stream",
       "stream": "stdout",
       "text": [
        "\r",
        "z = 5.2 / 15.0 : applied: Wake"
       ]
      },
      {
       "output_type": "stream",
       "stream": "stdout",
       "text": [
        "\r",
        "z = 5.4 / 15.0 : applied: Wake"
       ]
      },
      {
       "output_type": "stream",
       "stream": "stdout",
       "text": [
        "\r",
        "z = 5.6 / 15.0 : applied: Wake"
       ]
      },
      {
       "output_type": "stream",
       "stream": "stdout",
       "text": [
        "\r",
        "z = 5.8 / 15.0 : applied: Wake"
       ]
      },
      {
       "output_type": "stream",
       "stream": "stdout",
       "text": [
        "\r",
        "z = 6.0 / 15.0 : applied: Wake"
       ]
      },
      {
       "output_type": "stream",
       "stream": "stdout",
       "text": [
        "\r",
        "z = 6.2 / 15.0 : applied: Wake"
       ]
      },
      {
       "output_type": "stream",
       "stream": "stdout",
       "text": [
        "\r",
        "z = 6.4 / 15.0 : applied: Wake"
       ]
      },
      {
       "output_type": "stream",
       "stream": "stdout",
       "text": [
        "\r",
        "z = 6.6 / 15.0 : applied: Wake"
       ]
      },
      {
       "output_type": "stream",
       "stream": "stdout",
       "text": [
        "\r",
        "z = 6.8 / 15.0 : applied: Wake"
       ]
      },
      {
       "output_type": "stream",
       "stream": "stdout",
       "text": [
        "\r",
        "z = 7.0 / 15.0 : applied: Wake"
       ]
      },
      {
       "output_type": "stream",
       "stream": "stdout",
       "text": [
        "\r",
        "z = 7.25 / 15.0 : applied: "
       ]
      },
      {
       "output_type": "stream",
       "stream": "stdout",
       "text": [
        "\r",
        "z = 7.75 / 15.0 : applied: "
       ]
      },
      {
       "output_type": "stream",
       "stream": "stdout",
       "text": [
        "\r",
        "z = 8.0 / 15.0 : applied: "
       ]
      },
      {
       "output_type": "stream",
       "stream": "stdout",
       "text": [
        "\r",
        "z = 8.2 / 15.0 : applied: Wake"
       ]
      },
      {
       "output_type": "stream",
       "stream": "stdout",
       "text": [
        "\r",
        "z = 8.4 / 15.0 : applied: Wake"
       ]
      },
      {
       "output_type": "stream",
       "stream": "stdout",
       "text": [
        "\r",
        "z = 8.6 / 15.0 : applied: Wake"
       ]
      },
      {
       "output_type": "stream",
       "stream": "stdout",
       "text": [
        "\r",
        "z = 8.8 / 15.0 : applied: Wake"
       ]
      },
      {
       "output_type": "stream",
       "stream": "stdout",
       "text": [
        "\r",
        "z = 9.0 / 15.0 : applied: Wake"
       ]
      },
      {
       "output_type": "stream",
       "stream": "stdout",
       "text": [
        "\r",
        "z = 9.2 / 15.0 : applied: Wake"
       ]
      },
      {
       "output_type": "stream",
       "stream": "stdout",
       "text": [
        "\r",
        "z = 9.4 / 15.0 : applied: Wake"
       ]
      },
      {
       "output_type": "stream",
       "stream": "stdout",
       "text": [
        "\r",
        "z = 9.6 / 15.0 : applied: Wake"
       ]
      },
      {
       "output_type": "stream",
       "stream": "stdout",
       "text": [
        "\r",
        "z = 9.8 / 15.0 : applied: Wake"
       ]
      },
      {
       "output_type": "stream",
       "stream": "stdout",
       "text": [
        "\r",
        "z = 10.0 / 15.0 : applied: Wake"
       ]
      },
      {
       "output_type": "stream",
       "stream": "stdout",
       "text": [
        "\r",
        "z = 10.2 / 15.0 : applied: Wake"
       ]
      },
      {
       "output_type": "stream",
       "stream": "stdout",
       "text": [
        "\r",
        "z = 10.4 / 15.0 : applied: Wake"
       ]
      },
      {
       "output_type": "stream",
       "stream": "stdout",
       "text": [
        "\r",
        "z = 10.6 / 15.0 : applied: Wake"
       ]
      },
      {
       "output_type": "stream",
       "stream": "stdout",
       "text": [
        "\r",
        "z = 10.8 / 15.0 : applied: Wake"
       ]
      },
      {
       "output_type": "stream",
       "stream": "stdout",
       "text": [
        "\r",
        "z = 11.0 / 15.0 : applied: Wake"
       ]
      },
      {
       "output_type": "stream",
       "stream": "stdout",
       "text": [
        "\r",
        "z = 11.2 / 15.0 : applied: Wake"
       ]
      },
      {
       "output_type": "stream",
       "stream": "stdout",
       "text": [
        "\r",
        "z = 11.4 / 15.0 : applied: Wake"
       ]
      },
      {
       "output_type": "stream",
       "stream": "stdout",
       "text": [
        "\r",
        "z = 11.6 / 15.0 : applied: Wake"
       ]
      },
      {
       "output_type": "stream",
       "stream": "stdout",
       "text": [
        "\r",
        "z = 11.8 / 15.0 : applied: Wake"
       ]
      },
      {
       "output_type": "stream",
       "stream": "stdout",
       "text": [
        "\r",
        "z = 12.0 / 15.0 : applied: Wake"
       ]
      },
      {
       "output_type": "stream",
       "stream": "stdout",
       "text": [
        "\r",
        "z = 12.2 / 15.0 : applied: Wake"
       ]
      },
      {
       "output_type": "stream",
       "stream": "stdout",
       "text": [
        "\r",
        "z = 12.4 / 15.0 : applied: Wake"
       ]
      },
      {
       "output_type": "stream",
       "stream": "stdout",
       "text": [
        "\r",
        "z = 12.6 / 15.0 : applied: Wake"
       ]
      },
      {
       "output_type": "stream",
       "stream": "stdout",
       "text": [
        "\r",
        "z = 12.8 / 15.0 : applied: Wake"
       ]
      },
      {
       "output_type": "stream",
       "stream": "stdout",
       "text": [
        "\r",
        "z = 13.0 / 15.0 : applied: Wake"
       ]
      },
      {
       "output_type": "stream",
       "stream": "stdout",
       "text": [
        "\r",
        "z = 13.2 / 15.0 : applied: Wake"
       ]
      },
      {
       "output_type": "stream",
       "stream": "stdout",
       "text": [
        "\r",
        "z = 13.4 / 15.0 : applied: Wake"
       ]
      },
      {
       "output_type": "stream",
       "stream": "stdout",
       "text": [
        "\r",
        "z = 13.6 / 15.0 : applied: Wake"
       ]
      },
      {
       "output_type": "stream",
       "stream": "stdout",
       "text": [
        "\r",
        "z = 13.8 / 15.0 : applied: Wake"
       ]
      },
      {
       "output_type": "stream",
       "stream": "stdout",
       "text": [
        "\r",
        "z = 14.0 / 15.0 : applied: Wake"
       ]
      },
      {
       "output_type": "stream",
       "stream": "stdout",
       "text": [
        "\r",
        "z = 15.0 / 15.0 : applied: "
       ]
      }
     ],
     "prompt_number": 5
    },
    {
     "cell_type": "heading",
     "level": 2,
     "metadata": {},
     "source": [
      "Longitudinal beam distribution"
     ]
    },
    {
     "cell_type": "code",
     "collapsed": false,
     "input": [
      "tau0 = p_array_init.tau()\n",
      "p0 = p_array_init.p()\n",
      "\n",
      "tau1 = p_array.tau()\n",
      "p1 = p_array.p()\n",
      "\n",
      "plt.figure(1)\n",
      "plt.plot(-tau0*1000, p0, \"r.\", -tau1*1000, p1, \"b.\")\n",
      "plt.legend([\"before\", \"after\"], loc=4)\n",
      "plt.grid(True)\n",
      "plt.xlabel(r\"$\\tau$, mm\")\n",
      "plt.ylabel(r\"$\\frac{\\Delta E}{E}$\")\n",
      "plt.show()"
     ],
     "language": "python",
     "metadata": {},
     "outputs": [
      {
       "metadata": {},
       "output_type": "display_data",
       "png": "[encoded data removed]",
       "text": [
        "<matplotlib.figure.Figure at 0xc027290>"
       ]
      }
     ],
     "prompt_number": 6
    },
    {
     "cell_type": "heading",
     "level": 3,
     "metadata": {},
     "source": [
      "Beam distribution"
     ]
    },
    {
     "cell_type": "code",
     "collapsed": false,
     "input": [
      "tau = np.array([p.tau for p in p_array])\n",
      "dp = np.array([p.p for p in p_array])\n",
      "x = np.array([p.x for p in p_array])\n",
      "y = np.array([p.y for p in p_array])\n",
      "\n",
      "ax1 = plt.subplot(311)\n",
      "ax1.plot(-tau*1000, x*1000, 'r.')\n",
      "plt.setp(ax1.get_xticklabels(), visible=False)\n",
      "plt.ylabel(\"x, mm\")\n",
      "plt.grid(True)\n",
      "\n",
      "ax2 = plt.subplot(312, sharex=ax1)\n",
      "ax2.plot(-tau*1000, y*1000, 'r.')\n",
      "plt.setp(ax2.get_xticklabels(), visible=False)\n",
      "plt.ylabel(\"y, mm\")\n",
      "plt.grid(True)\n",
      "\n",
      "ax3 = plt.subplot(313, sharex=ax1)\n",
      "ax3.plot(-tau*1000, dp, 'r.')\n",
      "plt.ylabel(\"dp/p\")\n",
      "plt.xlabel(\"s, mm\")\n",
      "plt.grid(True)"
     ],
     "language": "python",
     "metadata": {},
     "outputs": [
      {
       "metadata": {},
       "output_type": "display_data",
       "png": "[encoded data removed]",
       "text": [
        "<matplotlib.figure.Figure at 0xbecf850>"
       ]
      }
     ],
     "prompt_number": 7
    },
    {
     "cell_type": "code",
     "collapsed": false,
     "input": [
      "# plotting twiss parameters.\n",
      "plot_opt_func(lat, tws_track, top_plot=[\"Dx\"], fig_name=\"i1\", legend=False)\n",
      "plt.show()"
     ],
     "language": "python",
     "metadata": {},
     "outputs": [
      {
       "metadata": {},
       "output_type": "display_data",
       "png": "[encoded data removed]",
       "text": [
        "<matplotlib.figure.Figure at 0xbe73df0>"
       ]
      }
     ],
     "prompt_number": 8
    },
    {
     "cell_type": "code",
     "collapsed": true,
     "input": [],
     "language": "python",
     "metadata": {},
     "outputs": []
    }
   ],
   "metadata": {}
  }
 ]
}